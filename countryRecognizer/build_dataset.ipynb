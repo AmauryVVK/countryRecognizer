{
 "cells": [
  {
   "cell_type": "code",
   "execution_count": 87,
   "metadata": {},
   "outputs": [],
   "source": [
    "from pathlib import Path\n",
    "import os\n",
    "from glob import glob\n",
    "import numpy as np\n",
    "from pydub import AudioSegment\n",
    "import librosa"
   ]
  },
  {
   "cell_type": "code",
   "execution_count": 88,
   "metadata": {},
   "outputs": [],
   "source": [
    "def get_filepaths():\n",
    "    data_dir = Path('../data/raw')\n",
    "    \n",
    "    return list(data_dir.glob('*.m4a'))"
   ]
  },
  {
   "cell_type": "code",
   "execution_count": 89,
   "metadata": {},
   "outputs": [],
   "source": [
    "def get_data_overview(filepaths):\n",
    "    data_overview = {}\n",
    "    for filepath in filepaths:\n",
    "        filename = str(filepath).split('/')[-1].split('.m4a')[0]\n",
    "        splits = filename.split('_')\n",
    "        if not splits[0] in data_overview:\n",
    "            data_overview[splits[0]] = []\n",
    "        data_overview[splits[0]].append(int(splits[1]))\n",
    "            \n",
    "    return data_overview"
   ]
  },
  {
   "cell_type": "code",
   "execution_count": 90,
   "metadata": {},
   "outputs": [],
   "source": [
    "def get_audio(filepath):\n",
    "    audio_obj = AudioSegment.from_file(filepath)\n",
    "    audio_array = np.array(audio_obj.get_array_of_samples()).astype(np.float32)\n",
    "    audio_fs = audio_obj.frame_rate    \n",
    "    \n",
    "    return audio_array, audio_fs"
   ]
  },
  {
   "cell_type": "code",
   "execution_count": 91,
   "metadata": {},
   "outputs": [],
   "source": [
    "def get_xarrays(filepaths, x_is='spectrogram', n_mels=128):\n",
    "    xarrays = []\n",
    "    laudio = 0\n",
    "    for filepath in filepaths:\n",
    "        audio_array, audio_fs = get_audio(filepath)\n",
    "        if x_is == 'raw':\n",
    "            laudio = max(len(audio_array), laudio)\n",
    "            audio_array = np.reshape(audio_array, (1,len(audio_array)))\n",
    "            xarrays.append(audio_array)\n",
    "        elif x_is == 'spectrogram':\n",
    "            spectro = librosa.feature.melspectrogram(audio_array, sr=audio_fs, n_mels=n_mels)\n",
    "            log_spectro = librosa.power_to_db(spectro, ref=np.max)\n",
    "            laudio = max(log_spectro.shape[1], laudio)\n",
    "            xarrays.append(log_spectro)\n",
    "        else:\n",
    "            raise ValueError(\"x_is must be: 'raw', 'spectrogram'\") \n",
    "    \n",
    "    # pad\n",
    "    for i in range(len(xarrays)):\n",
    "        nappend = laudio - xarrays[i].shape[1]\n",
    "        xarrays[i] = np.append(xarrays[i], np.zeros((xarrays[i].shape[0],nappend)), axis=1)    \n",
    "    \n",
    "    return np.array(xarrays)"
   ]
  },
  {
   "cell_type": "code",
   "execution_count": 92,
   "metadata": {},
   "outputs": [],
   "source": [
    "def get_yarrays(filepaths, y_is='language'):\n",
    "    \"\"\"for gender: 0 is male, 1 is gender\"\"\"\n",
    "    yarrays = []\n",
    "    for filepath in filepaths:\n",
    "        filename = str(filepath).split('/')[-1].split('.m4a')[0]\n",
    "        if y_is == 'language':\n",
    "            yarrays.append(filename.split('_')[0])\n",
    "        elif y_is == 'gender':\n",
    "            gender_index = int(filename.split('_')[1])\n",
    "            if gender_index % 2 == 0:\n",
    "                yarrays.append('male')\n",
    "            else:\n",
    "                yarrays.append('female')\n",
    "    \n",
    "    return yarrays\n",
    "     "
   ]
  },
  {
   "cell_type": "code",
   "execution_count": 93,
   "metadata": {},
   "outputs": [],
   "source": [
    "def split_train_test(filepaths, arrays, split):\n",
    "    overview = get_data_overview(filepaths)\n",
    "    files_train = []\n",
    "    files_test = []\n",
    "    for language, items in overview.items():\n",
    "        ntrain = int(split*len(items))\n",
    "        items_train = items[:ntrain]\n",
    "        items_test = items[ntrain:]\n",
    "        files_train.extend([f\"{language}_{i}\" for i in items_train])\n",
    "        files_test.extend([f\"{language}_{i}\" for i in items_test])  \n",
    "        \n",
    "    arrays_train = []\n",
    "    arrays_test = []\n",
    "    for filepath, array in zip(filepaths, arrays):\n",
    "        filename = str(filepath).split('/')[-1].split('.m4a')[0]\n",
    "        if filename in files_train:\n",
    "            arrays_train.append(array)\n",
    "        elif filename in files_test:\n",
    "            arrays_test.append(array)\n",
    "        else:\n",
    "            raise ValueError(f\"Problem: {filepath} nor in train nor in test\")\n",
    "    \n",
    "    return (np.array(arrays_train), np.array(arrays_test))\n",
    "        \n",
    "            "
   ]
  },
  {
   "cell_type": "code",
   "execution_count": 94,
   "metadata": {},
   "outputs": [],
   "source": [
    "def build_train_test(x_is='raw', y_is='language', split=0.8):\n",
    "    filepaths = get_filepaths()\n",
    "    xarrays = get_xarrays(filepaths, x_is=x_is)\n",
    "    yarrays = get_yarrays(filepaths, y_is=y_is)\n",
    "    xtrain, xtest = split_train_test(filepaths, xarrays, split)\n",
    "    ytrain, ytest = split_train_test(filepaths, yarrays, split)\n",
    "    \n",
    "    return (xtrain, ytrain), (xtest, ytest)"
   ]
  },
  {
   "cell_type": "code",
   "execution_count": 95,
   "metadata": {},
   "outputs": [],
   "source": [
    "x_is = 'spectrogram'\n",
    "y_is = 'language'\n",
    "(xtrain, ytrain), (xtest, ytest) = build_train_test(x_is=x_is, y_is=y_is)"
   ]
  },
  {
   "cell_type": "code",
   "execution_count": 103,
   "metadata": {},
   "outputs": [],
   "source": [
    "savedir = Path('../data/preprocessed')\n",
    "savefile = os.path.join(savedir, f'{x_is}_{y_is}.npz')\n",
    "np.savez(savefile, xtrain=xtrain, ytrain=ytrain, xtest=xtest, ytest=ytest)"
   ]
  },
  {
   "cell_type": "code",
   "execution_count": 108,
   "metadata": {},
   "outputs": [
    {
     "data": {
      "text/plain": [
       "(8, 128, 3872)"
      ]
     },
     "execution_count": 108,
     "metadata": {},
     "output_type": "execute_result"
    }
   ],
   "source": [
    "npzfile = np.load(savefile)\n",
    "print(npzfile['xtrain'].shape)"
   ]
  },
  {
   "cell_type": "code",
   "execution_count": null,
   "metadata": {},
   "outputs": [],
   "source": []
  }
 ],
 "metadata": {
  "kernelspec": {
   "display_name": "Python 3",
   "language": "python",
   "name": "python3"
  },
  "language_info": {
   "codemirror_mode": {
    "name": "ipython",
    "version": 3
   },
   "file_extension": ".py",
   "mimetype": "text/x-python",
   "name": "python",
   "nbconvert_exporter": "python",
   "pygments_lexer": "ipython3",
   "version": "3.7.3"
  }
 },
 "nbformat": 4,
 "nbformat_minor": 2
}
