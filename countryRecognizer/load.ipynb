{
 "cells": [
  {
   "cell_type": "code",
   "execution_count": 3,
   "metadata": {},
   "outputs": [],
   "source": [
    "from pathlib import Path\n",
    "import os\n",
    "import numpy as np\n",
    "from pydub import AudioSegment\n",
    "import librosa"
   ]
  },
  {
   "cell_type": "code",
   "execution_count": 4,
   "metadata": {},
   "outputs": [],
   "source": [
    "def get_data_overview():\n",
    "    data_dir = Path('../data')\n",
    "    filenames = os.listdir(data_dir)\n",
    "    \n",
    "    data_overview = {}\n",
    "    for file in filenames:\n",
    "        if file.endswith('.m4a'):\n",
    "            splits = file[:-4].split('_')\n",
    "            if not splits[0] in data_overview:\n",
    "                data_overview[splits[0]] = []\n",
    "            data_overview[splits[0]].append(int(splits[1]))\n",
    "            \n",
    "    return data_overview"
   ]
  },
  {
   "cell_type": "code",
   "execution_count": 5,
   "metadata": {},
   "outputs": [],
   "source": [
    "def get_audio(filepath):\n",
    "    audio_obj = AudioSegment.from_file(filepath)\n",
    "    audio_array = np.array(audio_obj.get_array_of_samples()).astype(np.float32)\n",
    "    audio_fs = audio_obj.frame_rate    \n",
    "    \n",
    "    return audio_array, audio_fs"
   ]
  },
  {
   "cell_type": "code",
   "execution_count": 42,
   "metadata": {},
   "outputs": [],
   "source": [
    "def get_raw(filenames):\n",
    "    data_dir = Path('../data')\n",
    "    \n",
    "    raws = []\n",
    "    laudio = 0\n",
    "    for file in filenames:\n",
    "        file += '.m4a'\n",
    "        filepath = os.path.join(data_dir, file)\n",
    "        audio_array, audio_fs = get_audio(filepath)\n",
    "        laudio = max(len(audio_array), laudio)\n",
    "        audio_array = np.reshape(audio_array, (1,len(audio_array)))\n",
    "        raws.append(audio_array)\n",
    "    \n",
    "    # pad\n",
    "    for i in range(len(raws)):\n",
    "        nappend = laudio - np.shape(raws[i])[1]\n",
    "        raws[i] = np.append(raws[i], np.zeros((1,nappend)), axis=1)\n",
    "        \n",
    "    return np.array(raws)"
   ]
  },
  {
   "cell_type": "code",
   "execution_count": 45,
   "metadata": {},
   "outputs": [],
   "source": [
    "def get_spectrogram(filenames, n_mels=128):\n",
    "    data_dir = Path('../data')\n",
    "    \n",
    "    spectograms = []\n",
    "    laudio = 0\n",
    "    for file in filenames:\n",
    "        file += '.m4a'\n",
    "        filepath = os.path.join(data_dir, file)\n",
    "        audio_array, audio_fs = get_audio(filepath)\n",
    "        spectro = librosa.feature.melspectrogram(audio_array, sr=audio_fs, n_mels=n_mels)\n",
    "        log_spectro = librosa.power_to_db(spectro, ref=np.max)\n",
    "        laudio = max(np.shape(log_spectro)[1], laudio)\n",
    "        spectograms.append(log_spectro)\n",
    "    \n",
    "    # pad\n",
    "    for i in range(len(spectograms)):\n",
    "        nappend = laudio - np.shape(spectograms[i])[1]\n",
    "        spectograms[i] = np.append(spectograms[i], np.zeros((n_mels,nappend)), axis=1)\n",
    "        \n",
    "    return np.array(spectograms)"
   ]
  },
  {
   "cell_type": "code",
   "execution_count": 8,
   "metadata": {},
   "outputs": [],
   "source": [
    "def get_language(filenames):\n",
    "    y = []\n",
    "    for file in filenames:\n",
    "        splits = file.split('_')\n",
    "        y.append(splits[0])\n",
    "        \n",
    "    return y"
   ]
  },
  {
   "cell_type": "code",
   "execution_count": 9,
   "metadata": {},
   "outputs": [],
   "source": [
    "def get_gender(filenames):\n",
    "    \"\"\"0 is male, 1 is gender\"\"\"\n",
    "    y = []\n",
    "    for file in filenames:\n",
    "        splits = file.split('_')\n",
    "        if int(splits[1])%2 == 0:\n",
    "            y.append('male')\n",
    "        else:\n",
    "            y.append('female')\n",
    "    \n",
    "    return y"
   ]
  },
  {
   "cell_type": "code",
   "execution_count": 10,
   "metadata": {},
   "outputs": [],
   "source": [
    "def load_train_test(x_is='raw', y_is='language', split=0.8):\n",
    "    overview = get_data_overview()\n",
    "    \n",
    "    files_train = []\n",
    "    files_test = []\n",
    "    for language, items in overview.items():\n",
    "        ntrain = int(split*len(items))\n",
    "        items_train = items[:ntrain]\n",
    "        items_test = items[ntrain:]\n",
    "        files_train.extend([f\"{language}_{i}\" for i in items_train])\n",
    "        files_test.extend([f\"{language}_{i}\" for i in items_test])\n",
    "        \n",
    "    if x_is == 'raw':\n",
    "        xtrain = get_raw(files_train)\n",
    "        xtest = get_raw(files_test)\n",
    "    elif x_is == 'spectrogram':\n",
    "        xtrain = get_spectrogram(files_train)\n",
    "        xtest = get_spectrogram(files_test)\n",
    "    else:\n",
    "        raise ValueError(\"x_is must be: 'raw', 'spectrogram'\")    \n",
    "\n",
    "    if y_is == 'language':\n",
    "        ytrain = get_language(files_train)\n",
    "        ytest = get_language(files_test)\n",
    "    elif y_is == 'gender':\n",
    "        ytrain = get_gender(files_train)\n",
    "        ytest = get_gender(files_test)\n",
    "    else:\n",
    "        raise ValueError(\"y_is must be: 'language', 'gender'\")\n",
    "    \n",
    "    return (xtrain, ytrain), (xtest, ytest)"
   ]
  },
  {
   "cell_type": "code",
   "execution_count": 46,
   "metadata": {},
   "outputs": [
    {
     "name": "stdout",
     "output_type": "stream",
     "text": [
      "3058\n",
      "3058\n",
      "3198\n",
      "3226\n",
      "3226\n",
      "3226\n",
      "3226\n",
      "3460\n",
      "3460\n",
      "3460\n",
      "3460\n",
      "3460\n",
      "3460\n",
      "3460\n",
      "3460\n",
      "3460\n",
      "3460\n",
      "3460\n",
      "3872\n",
      "3872\n",
      "3872\n",
      "3872\n",
      "3872\n",
      "3872\n",
      "3872\n",
      "3872\n",
      "3872\n",
      "3872\n",
      "3872\n",
      "3872\n",
      "3872\n",
      "3872\n",
      "3180\n",
      "3404\n",
      "3404\n",
      "3404\n",
      "3404\n",
      "3404\n",
      "3404\n",
      "3404\n",
      "(32, 128, 3872)\n",
      "(32, 128, 3872)\n"
     ]
    }
   ],
   "source": [
    "(xtrain, ytrain), (xtest, ytest) = load_train_test(x_is='spectrogram')\n",
    "print(np.shape(xtrain))\n",
    "# split after getting arrays, otherwise xtrain and xtest have different lengths"
   ]
  },
  {
   "cell_type": "code",
   "execution_count": null,
   "metadata": {},
   "outputs": [],
   "source": []
  }
 ],
 "metadata": {
  "kernelspec": {
   "display_name": "Python 3",
   "language": "python",
   "name": "python3"
  },
  "language_info": {
   "codemirror_mode": {
    "name": "ipython",
    "version": 3
   },
   "file_extension": ".py",
   "mimetype": "text/x-python",
   "name": "python",
   "nbconvert_exporter": "python",
   "pygments_lexer": "ipython3",
   "version": "3.7.3"
  }
 },
 "nbformat": 4,
 "nbformat_minor": 2
}
