{
 "cells": [
  {
   "cell_type": "code",
   "execution_count": 36,
   "metadata": {},
   "outputs": [],
   "source": [
    "from pathlib import Path\n",
    "import os\n",
    "import numpy as np\n",
    "from pydub import AudioSegment\n",
    "import librosa"
   ]
  },
  {
   "cell_type": "code",
   "execution_count": 37,
   "metadata": {},
   "outputs": [],
   "source": [
    "def get_data_overview():\n",
    "    data_dir = Path('../data')\n",
    "    filenames = os.listdir(data_dir)\n",
    "    \n",
    "    data_overview = {}\n",
    "    for file in filenames:\n",
    "        if file.endswith('.m4a'):\n",
    "            splits = file[:-4].split('_')\n",
    "            if not splits[0] in data_overview:\n",
    "                data_overview[splits[0]] = []\n",
    "            data_overview[splits[0]].append(int(splits[1]))\n",
    "            \n",
    "    return data_overview"
   ]
  },
  {
   "cell_type": "code",
   "execution_count": 38,
   "metadata": {},
   "outputs": [],
   "source": [
    "def get_audio(filepath):\n",
    "    audio_obj = AudioSegment.from_file(filepath)\n",
    "    audio_array = np.array(audio_obj.get_array_of_samples()).astype(np.float32)\n",
    "    audio_fs = audio_obj.frame_rate    \n",
    "    \n",
    "    return audio_array, audio_fs"
   ]
  },
  {
   "cell_type": "code",
   "execution_count": 39,
   "metadata": {},
   "outputs": [],
   "source": [
    "def get_raw(filenames):\n",
    "    data_dir = Path('../data')\n",
    "    \n",
    "    x = []\n",
    "    for file in filenames:\n",
    "        file += '.m4a'\n",
    "        filepath = os.path.join(data_dir, file)\n",
    "        audio_array, audio_fs = get_audio(filepath)\n",
    "        #! TODO: need to pad with zeros\n",
    "        x.append(audio_array)\n",
    "        \n",
    "    return np.array(x)"
   ]
  },
  {
   "cell_type": "code",
   "execution_count": 46,
   "metadata": {},
   "outputs": [],
   "source": [
    "def get_spectrogram(filenames):\n",
    "    data_dir = Path('../data')\n",
    "    \n",
    "    x = []\n",
    "    for file in filenames:\n",
    "        file += '.m4a'\n",
    "        filepath = os.path.join(data_dir, file)\n",
    "        audio_array, audio_fs = get_audio(filepath)\n",
    "        spectro = librosa.feature.melspectrogram(audio_array, sr=audio_fs, n_mels=128)\n",
    "        log_spectro = librosa.power_to_db(spectro, ref=np.max)\n",
    "        #! TODO: need to pad with zeros\n",
    "        x.append(log_spectro)\n",
    "        \n",
    "    return np.array(x)"
   ]
  },
  {
   "cell_type": "code",
   "execution_count": 41,
   "metadata": {},
   "outputs": [],
   "source": [
    "def get_language(filenames):\n",
    "    y = []\n",
    "    for file in filenames:\n",
    "        splits = file.split('_')\n",
    "        y.append(splits[0])\n",
    "        \n",
    "    return y"
   ]
  },
  {
   "cell_type": "code",
   "execution_count": 42,
   "metadata": {},
   "outputs": [],
   "source": [
    "def get_gender(filenames):\n",
    "    \"\"\"0 is male, 1 is gender\"\"\"\n",
    "    y = []\n",
    "    for file in filenames:\n",
    "        splits = file.split('_')\n",
    "        if int(splits[1])%2 == 0:\n",
    "            y.append('male')\n",
    "        else:\n",
    "            y.append('female')\n",
    "    \n",
    "    return y"
   ]
  },
  {
   "cell_type": "code",
   "execution_count": 43,
   "metadata": {},
   "outputs": [],
   "source": [
    "def load_train_test(x_is='raw', y_is='language', split=0.8):\n",
    "    overview = get_data_overview()\n",
    "    \n",
    "    files_train = []\n",
    "    files_test = []\n",
    "    for language, items in overview.items():\n",
    "        ntrain = int(split*len(items))\n",
    "        items_train = items[:ntrain]\n",
    "        items_test = items[ntrain:]\n",
    "        files_train.extend([f\"{language}_{i}\" for i in items_train])\n",
    "        files_test.extend([f\"{language}_{i}\" for i in items_test])\n",
    "        \n",
    "    if x_is == 'raw':\n",
    "        xtrain = get_raw(files_train)\n",
    "        xtest = get_raw(files_test)\n",
    "    elif x_is == 'spectrogram':\n",
    "        xtrain = get_spectrogram(files_train)\n",
    "        xtest = get_spectrogram(files_test)\n",
    "    else:\n",
    "        raise ValueError(\"x_is must be: 'raw', 'spectrogram'\")    \n",
    "\n",
    "    if y_is == 'language':\n",
    "        ytrain = get_language(files_train)\n",
    "        ytest = get_language(files_test)\n",
    "    elif y_is == 'gender':\n",
    "        ytrain = get_gender(files_train)\n",
    "        ytest = get_gender(files_test)\n",
    "    else:\n",
    "        raise ValueError(\"y_is must be: 'language', 'gender'\")\n",
    "        \n",
    "    print(np.shape(xtrain))\n",
    "    \n",
    "    return (xtrain, ytrain), (xtest, ytest)"
   ]
  },
  {
   "cell_type": "code",
   "execution_count": 47,
   "metadata": {},
   "outputs": [
    {
     "name": "stdout",
     "output_type": "stream",
     "text": [
      "(128, 3058)\n",
      "(128, 2954)\n",
      "(128, 3198)\n",
      "(128, 3226)\n",
      "(128, 2852)\n",
      "(128, 3170)\n",
      "(128, 3160)\n",
      "(128, 3460)\n",
      "(128, 3076)\n",
      "(128, 2944)\n",
      "(128, 3180)\n",
      "(128, 3188)\n",
      "(128, 2880)\n",
      "(128, 3076)\n",
      "(128, 3216)\n",
      "(128, 3122)\n",
      "(128, 3394)\n",
      "(128, 2522)\n",
      "(128, 3872)\n",
      "(128, 2786)\n",
      "(128, 2448)\n",
      "(128, 3038)\n",
      "(128, 3488)\n",
      "(128, 2420)\n",
      "(128, 2944)\n",
      "(128, 2372)\n",
      "(128, 2794)\n",
      "(128, 3010)\n",
      "(128, 2916)\n",
      "(128, 3198)\n",
      "(128, 2570)\n",
      "(128, 2832)\n"
     ]
    },
    {
     "ename": "ValueError",
     "evalue": "could not broadcast input array from shape (128,3058) into shape (128)",
     "output_type": "error",
     "traceback": [
      "\u001b[0;31m---------------------------------------------------------------------------\u001b[0m",
      "\u001b[0;31mValueError\u001b[0m                                Traceback (most recent call last)",
      "\u001b[0;32m<ipython-input-47-2b81af687283>\u001b[0m in \u001b[0;36m<module>\u001b[0;34m\u001b[0m\n\u001b[0;32m----> 1\u001b[0;31m \u001b[0mload_train_test\u001b[0m\u001b[0;34m(\u001b[0m\u001b[0mx_is\u001b[0m\u001b[0;34m=\u001b[0m\u001b[0;34m'spectrogram'\u001b[0m\u001b[0;34m)\u001b[0m\u001b[0;34m\u001b[0m\u001b[0;34m\u001b[0m\u001b[0m\n\u001b[0m",
      "\u001b[0;32m<ipython-input-43-7e1852e4ca27>\u001b[0m in \u001b[0;36mload_train_test\u001b[0;34m(x_is, y_is, split)\u001b[0m\n\u001b[1;32m     15\u001b[0m         \u001b[0mxtest\u001b[0m \u001b[0;34m=\u001b[0m \u001b[0mget_raw\u001b[0m\u001b[0;34m(\u001b[0m\u001b[0mfiles_test\u001b[0m\u001b[0;34m)\u001b[0m\u001b[0;34m\u001b[0m\u001b[0;34m\u001b[0m\u001b[0m\n\u001b[1;32m     16\u001b[0m     \u001b[0;32melif\u001b[0m \u001b[0mx_is\u001b[0m \u001b[0;34m==\u001b[0m \u001b[0;34m'spectrogram'\u001b[0m\u001b[0;34m:\u001b[0m\u001b[0;34m\u001b[0m\u001b[0;34m\u001b[0m\u001b[0m\n\u001b[0;32m---> 17\u001b[0;31m         \u001b[0mxtrain\u001b[0m \u001b[0;34m=\u001b[0m \u001b[0mget_spectrogram\u001b[0m\u001b[0;34m(\u001b[0m\u001b[0mfiles_train\u001b[0m\u001b[0;34m)\u001b[0m\u001b[0;34m\u001b[0m\u001b[0;34m\u001b[0m\u001b[0m\n\u001b[0m\u001b[1;32m     18\u001b[0m         \u001b[0mxtest\u001b[0m \u001b[0;34m=\u001b[0m \u001b[0mget_spectrogram\u001b[0m\u001b[0;34m(\u001b[0m\u001b[0mfiles_test\u001b[0m\u001b[0;34m)\u001b[0m\u001b[0;34m\u001b[0m\u001b[0;34m\u001b[0m\u001b[0m\n\u001b[1;32m     19\u001b[0m     \u001b[0;32melse\u001b[0m\u001b[0;34m:\u001b[0m\u001b[0;34m\u001b[0m\u001b[0;34m\u001b[0m\u001b[0m\n",
      "\u001b[0;32m<ipython-input-46-78639452d5d9>\u001b[0m in \u001b[0;36mget_spectrogram\u001b[0;34m(filenames)\u001b[0m\n\u001b[1;32m     12\u001b[0m         \u001b[0mx\u001b[0m\u001b[0;34m.\u001b[0m\u001b[0mappend\u001b[0m\u001b[0;34m(\u001b[0m\u001b[0mlog_spectro\u001b[0m\u001b[0;34m)\u001b[0m\u001b[0;34m\u001b[0m\u001b[0;34m\u001b[0m\u001b[0m\n\u001b[1;32m     13\u001b[0m \u001b[0;34m\u001b[0m\u001b[0m\n\u001b[0;32m---> 14\u001b[0;31m     \u001b[0;32mreturn\u001b[0m \u001b[0mnp\u001b[0m\u001b[0;34m.\u001b[0m\u001b[0marray\u001b[0m\u001b[0;34m(\u001b[0m\u001b[0mx\u001b[0m\u001b[0;34m)\u001b[0m\u001b[0;34m\u001b[0m\u001b[0;34m\u001b[0m\u001b[0m\n\u001b[0m",
      "\u001b[0;31mValueError\u001b[0m: could not broadcast input array from shape (128,3058) into shape (128)"
     ]
    }
   ],
   "source": [
    "load_train_test(x_is='spectrogram')"
   ]
  },
  {
   "cell_type": "code",
   "execution_count": null,
   "metadata": {},
   "outputs": [],
   "source": []
  }
 ],
 "metadata": {
  "kernelspec": {
   "display_name": "Python 3",
   "language": "python",
   "name": "python3"
  },
  "language_info": {
   "codemirror_mode": {
    "name": "ipython",
    "version": 3
   },
   "file_extension": ".py",
   "mimetype": "text/x-python",
   "name": "python",
   "nbconvert_exporter": "python",
   "pygments_lexer": "ipython3",
   "version": "3.7.3"
  }
 },
 "nbformat": 4,
 "nbformat_minor": 2
}
